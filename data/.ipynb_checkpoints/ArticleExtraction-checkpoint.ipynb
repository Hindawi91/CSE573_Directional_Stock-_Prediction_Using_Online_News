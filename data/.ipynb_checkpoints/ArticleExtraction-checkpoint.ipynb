{
 "cells": [
  {
   "cell_type": "code",
   "execution_count": 1,
   "metadata": {
    "colab": {
     "base_uri": "https://localhost:8080/",
     "height": 799
    },
    "colab_type": "code",
    "id": "XYXTmbqOB4w1",
    "outputId": "5e314735-336c-464b-bee6-8c2c26ce229e"
   },
   "outputs": [
    {
     "name": "stderr",
     "output_type": "stream",
     "text": [
      "[nltk_data] Downloading collection 'popular'\n",
      "[nltk_data]    | \n",
      "[nltk_data]    | Downloading package cmudict to\n",
      "[nltk_data]    |     /home/local/ASUAD/falhinda/nltk_data...\n",
      "[nltk_data]    |   Package cmudict is already up-to-date!\n",
      "[nltk_data]    | Downloading package gazetteers to\n",
      "[nltk_data]    |     /home/local/ASUAD/falhinda/nltk_data...\n",
      "[nltk_data]    |   Package gazetteers is already up-to-date!\n",
      "[nltk_data]    | Downloading package genesis to\n",
      "[nltk_data]    |     /home/local/ASUAD/falhinda/nltk_data...\n",
      "[nltk_data]    |   Package genesis is already up-to-date!\n",
      "[nltk_data]    | Downloading package gutenberg to\n",
      "[nltk_data]    |     /home/local/ASUAD/falhinda/nltk_data...\n",
      "[nltk_data]    |   Package gutenberg is already up-to-date!\n",
      "[nltk_data]    | Downloading package inaugural to\n",
      "[nltk_data]    |     /home/local/ASUAD/falhinda/nltk_data...\n",
      "[nltk_data]    |   Package inaugural is already up-to-date!\n",
      "[nltk_data]    | Downloading package movie_reviews to\n",
      "[nltk_data]    |     /home/local/ASUAD/falhinda/nltk_data...\n",
      "[nltk_data]    |   Package movie_reviews is already up-to-date!\n",
      "[nltk_data]    | Downloading package names to\n",
      "[nltk_data]    |     /home/local/ASUAD/falhinda/nltk_data...\n",
      "[nltk_data]    |   Package names is already up-to-date!\n",
      "[nltk_data]    | Downloading package shakespeare to\n",
      "[nltk_data]    |     /home/local/ASUAD/falhinda/nltk_data...\n",
      "[nltk_data]    |   Package shakespeare is already up-to-date!\n",
      "[nltk_data]    | Downloading package stopwords to\n",
      "[nltk_data]    |     /home/local/ASUAD/falhinda/nltk_data...\n",
      "[nltk_data]    |   Package stopwords is already up-to-date!\n",
      "[nltk_data]    | Downloading package treebank to\n",
      "[nltk_data]    |     /home/local/ASUAD/falhinda/nltk_data...\n",
      "[nltk_data]    |   Package treebank is already up-to-date!\n",
      "[nltk_data]    | Downloading package twitter_samples to\n",
      "[nltk_data]    |     /home/local/ASUAD/falhinda/nltk_data...\n",
      "[nltk_data]    |   Package twitter_samples is already up-to-date!\n",
      "[nltk_data]    | Downloading package omw to\n",
      "[nltk_data]    |     /home/local/ASUAD/falhinda/nltk_data...\n",
      "[nltk_data]    |   Package omw is already up-to-date!\n",
      "[nltk_data]    | Downloading package omw-1.4 to\n",
      "[nltk_data]    |     /home/local/ASUAD/falhinda/nltk_data...\n",
      "[nltk_data]    |   Package omw-1.4 is already up-to-date!\n",
      "[nltk_data]    | Downloading package wordnet to\n",
      "[nltk_data]    |     /home/local/ASUAD/falhinda/nltk_data...\n",
      "[nltk_data]    |   Package wordnet is already up-to-date!\n",
      "[nltk_data]    | Downloading package wordnet2021 to\n",
      "[nltk_data]    |     /home/local/ASUAD/falhinda/nltk_data...\n",
      "[nltk_data]    |   Package wordnet2021 is already up-to-date!\n",
      "[nltk_data]    | Downloading package wordnet31 to\n",
      "[nltk_data]    |     /home/local/ASUAD/falhinda/nltk_data...\n",
      "[nltk_data]    |   Package wordnet31 is already up-to-date!\n",
      "[nltk_data]    | Downloading package wordnet_ic to\n",
      "[nltk_data]    |     /home/local/ASUAD/falhinda/nltk_data...\n",
      "[nltk_data]    |   Package wordnet_ic is already up-to-date!\n",
      "[nltk_data]    | Downloading package words to\n",
      "[nltk_data]    |     /home/local/ASUAD/falhinda/nltk_data...\n",
      "[nltk_data]    |   Package words is already up-to-date!\n",
      "[nltk_data]    | Downloading package maxent_ne_chunker to\n",
      "[nltk_data]    |     /home/local/ASUAD/falhinda/nltk_data...\n",
      "[nltk_data]    |   Package maxent_ne_chunker is already up-to-date!\n",
      "[nltk_data]    | Downloading package punkt to\n",
      "[nltk_data]    |     /home/local/ASUAD/falhinda/nltk_data...\n",
      "[nltk_data]    |   Package punkt is already up-to-date!\n",
      "[nltk_data]    | Downloading package snowball_data to\n",
      "[nltk_data]    |     /home/local/ASUAD/falhinda/nltk_data...\n",
      "[nltk_data]    |   Package snowball_data is already up-to-date!\n",
      "[nltk_data]    | Downloading package averaged_perceptron_tagger to\n",
      "[nltk_data]    |     /home/local/ASUAD/falhinda/nltk_data...\n",
      "[nltk_data]    |   Package averaged_perceptron_tagger is already up-\n",
      "[nltk_data]    |       to-date!\n",
      "[nltk_data]    | \n",
      "[nltk_data]  Done downloading collection popular\n"
     ]
    }
   ],
   "source": [
    "# !pip install nltk\n",
    "import json\n",
    "import os\n",
    "import pandas as pd\n",
    "import nltk\n",
    "nltk.download(\"popular\")\n",
    "from nltk.tokenize import word_tokenize\n",
    "from nltk.corpus import stopwords\n"
   ]
  },
  {
   "cell_type": "code",
   "execution_count": 2,
   "metadata": {
    "colab": {
     "base_uri": "https://localhost:8080/",
     "height": 426
    },
    "colab_type": "code",
    "id": "Mra9shjGR_mJ",
    "outputId": "f4659c44-bc87-428d-e709-3cbc117470d6"
   },
   "outputs": [],
   "source": [
    "dataset=pd.read_csv('ExtractedNewsSentenceWise2.csv',encoding='latin1')\n",
    "dataset=dataset[['text','day','24_time']]\n",
    "dataset=dataset.dropna()\n",
    "dataset=dataset.reset_index(drop=True)"
   ]
  },
  {
   "cell_type": "code",
   "execution_count": 3,
   "metadata": {},
   "outputs": [
    {
     "data": {
      "text/html": [
       "<div>\n",
       "<style scoped>\n",
       "    .dataframe tbody tr th:only-of-type {\n",
       "        vertical-align: middle;\n",
       "    }\n",
       "\n",
       "    .dataframe tbody tr th {\n",
       "        vertical-align: top;\n",
       "    }\n",
       "\n",
       "    .dataframe thead th {\n",
       "        text-align: right;\n",
       "    }\n",
       "</style>\n",
       "<table border=\"1\" class=\"dataframe\">\n",
       "  <thead>\n",
       "    <tr style=\"text-align: right;\">\n",
       "      <th></th>\n",
       "      <th>text</th>\n",
       "      <th>day</th>\n",
       "      <th>24_time</th>\n",
       "    </tr>\n",
       "  </thead>\n",
       "  <tbody>\n",
       "    <tr>\n",
       "      <th>0</th>\n",
       "      <td>nape summit week will also feature the annual ...</td>\n",
       "      <td>2017-12-07</td>\n",
       "      <td>22:00:00</td>\n",
       "    </tr>\n",
       "    <tr>\n",
       "      <th>1</th>\n",
       "      <td>from appleÃ¢ÂÂs hugely anticipated iphone x ...</td>\n",
       "      <td>2017-12-08</td>\n",
       "      <td>23:37:00</td>\n",
       "    </tr>\n",
       "    <tr>\n",
       "      <th>2</th>\n",
       "      <td>iphone x Ã¢ÂÂ best phone if money isnÃ¢ÂÂt...</td>\n",
       "      <td>2017-12-08</td>\n",
       "      <td>23:37:00</td>\n",
       "    </tr>\n",
       "    <tr>\n",
       "      <th>3</th>\n",
       "      <td>more appleÃ¢ÂÂs (aapl) most premium of premi...</td>\n",
       "      <td>2017-12-08</td>\n",
       "      <td>23:37:00</td>\n",
       "    </tr>\n",
       "    <tr>\n",
       "      <th>4</th>\n",
       "      <td>the xÃ¢ÂÂs spot-on face id facial-recognitio...</td>\n",
       "      <td>2017-12-08</td>\n",
       "      <td>23:37:00</td>\n",
       "    </tr>\n",
       "  </tbody>\n",
       "</table>\n",
       "</div>"
      ],
      "text/plain": [
       "                                                text         day   24_time\n",
       "0  nape summit week will also feature the annual ...  2017-12-07  22:00:00\n",
       "1  from appleÃ¢ÂÂs hugely anticipated iphone x ...  2017-12-08  23:37:00\n",
       "2  iphone x Ã¢ÂÂ best phone if money isnÃ¢ÂÂt...  2017-12-08  23:37:00\n",
       "3  more appleÃ¢ÂÂs (aapl) most premium of premi...  2017-12-08  23:37:00\n",
       "4  the xÃ¢ÂÂs spot-on face id facial-recognitio...  2017-12-08  23:37:00"
      ]
     },
     "execution_count": 3,
     "metadata": {},
     "output_type": "execute_result"
    }
   ],
   "source": [
    "dataset.head()"
   ]
  },
  {
   "cell_type": "code",
   "execution_count": 4,
   "metadata": {
    "colab": {
     "base_uri": "https://localhost:8080/",
     "height": 68
    },
    "colab_type": "code",
    "id": "6RsSlVkiRy5u",
    "outputId": "31dd1dd7-b03c-4426-c2d0-2ba728ade380"
   },
   "outputs": [
    {
     "name": "stdout",
     "output_type": "stream",
     "text": [
      "548132\n",
      "521587\n",
      "419412\n"
     ]
    }
   ],
   "source": [
    "print(len(dataset))\n",
    "# dataset=dataset[dataset['text'].str.isalnum()]\n",
    "dataset=dataset[dataset['text'].str.match('^[A-Z a-z 0-9]+')]\n",
    "dataset=dataset[dataset['day'].str.match('^[0-9]+[-]')]\n",
    "print(len(dataset))\n",
    "dataset=dataset.drop_duplicates(keep=False)\n",
    "dataset=dataset.reset_index(drop=True)\n",
    "dataset.head()\n",
    "print(len(dataset))"
   ]
  },
  {
   "cell_type": "code",
   "execution_count": 5,
   "metadata": {
    "colab": {
     "base_uri": "https://localhost:8080/",
     "height": 156
    },
    "colab_type": "code",
    "id": "jdDiUyGIeyOY",
    "outputId": "3436bb58-0830-423a-c932-016ed47f4ce8"
   },
   "outputs": [
    {
     "name": "stdout",
     "output_type": "stream",
     "text": [
      "                                                text         day   24_time\n",
      "0  nape summit week will also feature the annual ...  2017-12-07  22:00:00\n",
      "1  from appleÃ¢ÂÂs hugely anticipated iphone x ...  2017-12-08  23:37:00\n",
      "2  iphone x Ã¢ÂÂ best phone if money isnÃ¢ÂÂt...  2017-12-08  23:37:00\n",
      "3  more appleÃ¢ÂÂs (aapl) most premium of premi...  2017-12-08  23:37:00\n",
      "4  the xÃ¢ÂÂs spot-on face id facial-recognitio...  2017-12-08  23:37:00\n"
     ]
    }
   ],
   "source": [
    "print(dataset.head())"
   ]
  },
  {
   "cell_type": "code",
   "execution_count": 2,
   "metadata": {
    "colab": {},
    "colab_type": "code",
    "id": "yW9v6QkgDpdE"
   },
   "outputs": [],
   "source": [
    "import unicodedata\n",
    "import re\n",
    "stop_words = set(stopwords.words('english'))\n",
    "from nltk.stem import LancasterStemmer,PorterStemmer\n",
    "def nonAsciiChar(words):\n",
    "    final_words=[]\n",
    "    for word in words:\n",
    "        word=word.lower()\n",
    "        word = re.sub(r'[^\\w\\s]', '', word)\n",
    "        word=re.sub(\"\\d+\", \"\",word)\n",
    "        word=re.sub('[^a-zA-Z]+','',word)\n",
    "        f_word=unicodedata.normalize('NFKD', word).encode('ascii', 'ignore').decode('utf-8', 'ignore')\n",
    "        final_words.append(f_word)\n",
    "        \n",
    "    return final_words\n",
    "\n",
    "def stopWords(words):\n",
    "    final_words=[]\n",
    "    for word in words:\n",
    "        if word not in stop_words:\n",
    "            final_words.append(word)\n",
    "    return final_words\n",
    "\n",
    "def removeSpace(words):\n",
    "    final_words=[]\n",
    "    for word in words:\n",
    "        if word!='':\n",
    "            final_words.append(word)\n",
    "    return final_words\n",
    "          \n",
    "def stem_words(words):\n",
    "    stemmer = PorterStemmer()\n",
    "    final_stem=[]\n",
    "    for word in words:\n",
    "        word=stemmer.stem(word)\n",
    "        if word not in final_stem:\n",
    "            final_stem.append(word)\n",
    "    return final_stem\n",
    "\n",
    "def remove_links(words):\n",
    "    final_words=[]\n",
    "    for word in words:\n",
    "        if not re.match('[www]',word):\n",
    "            final_words.append(word)\n",
    "    return final_words\n",
    "\n",
    "def all_data_extraction(words):\n",
    "    words=nonAsciiChar(words)\n",
    "    words=stopWords(words)\n",
    "    words=removeSpace(words)\n",
    "    words=stem_words(words)\n",
    "    # print((words))\n",
    "    words=remove_links(words)\n",
    "    # print((words))\n",
    "    return words\n",
    "# words = word_tokenize(dataset.loc[349].text)\n",
    "\n",
    "# words=all_data_extraction(words)\n",
    "# print(words)\n",
    "# print(' '.join(word for word in words))"
   ]
  },
  {
   "cell_type": "code",
   "execution_count": 12,
   "metadata": {
    "colab": {},
    "colab_type": "code",
    "id": "ZdaCmwoLDxo_"
   },
   "outputs": [],
   "source": [
    "# dataset=dataset[['text','day','24_time']]\n",
    "# dataset=dataset.dropna()\n",
    "# dataset=dataset.reset_index(drop=True)\n",
    "# dataset.head()\n",
    "# print(words)"
   ]
  },
  {
   "cell_type": "code",
   "execution_count": 7,
   "metadata": {
    "colab": {
     "base_uri": "https://localhost:8080/",
     "height": 136
    },
    "colab_type": "code",
    "id": "0N7KKAXqD17g",
    "outputId": "5df91909-db45-42f6-f403-5bce5ace66f6"
   },
   "outputs": [
    {
     "name": "stdout",
     "output_type": "stream",
     "text": [
      "I------>  0\n",
      "I------>  10000\n",
      "I------>  20000\n",
      "I------>  30000\n",
      "I------>  40000\n",
      "I------>  50000\n",
      "I------>  60000\n",
      "I------>  70000\n",
      "I------>  80000\n",
      "I------>  90000\n",
      "I------>  100000\n",
      "I------>  110000\n",
      "I------>  120000\n",
      "I------>  130000\n",
      "I------>  140000\n",
      "I------>  150000\n",
      "I------>  160000\n",
      "I------>  170000\n",
      "I------>  180000\n",
      "I------>  190000\n",
      "I------>  200000\n",
      "I------>  210000\n",
      "I------>  220000\n",
      "I------>  230000\n",
      "I------>  240000\n",
      "I------>  250000\n",
      "I------>  260000\n",
      "I------>  270000\n",
      "I------>  280000\n",
      "I------>  290000\n",
      "I------>  300000\n",
      "I------>  310000\n",
      "I------>  320000\n",
      "I------>  330000\n",
      "I------>  340000\n",
      "I------>  350000\n",
      "I------>  360000\n",
      "I------>  370000\n",
      "I------>  380000\n",
      "I------>  390000\n",
      "I------>  400000\n",
      "I------>  410000\n"
     ]
    }
   ],
   "source": [
    "texts=[]\n",
    "days=[]\n",
    "time=[]\n",
    "data_text=[]\n",
    "for i in range(len(dataset)):\n",
    "    if i%10000==0:\n",
    "      print(\"I------> \",i)\n",
    "    words=word_tokenize(dataset.loc[i].text)\n",
    "    words=all_data_extraction(words)\n",
    "    extracted_sentence=' '.join(word for word in words)\n",
    "    texts.append(extracted_sentence)\n",
    "\n",
    "\n",
    "\n",
    "    \n",
    "    days.append(dataset.loc[i]['day'])\n",
    "    time.append(dataset.loc[i]['24_time'])\n",
    "df=pd.DataFrame({\n",
    "    'text':texts,\n",
    "    'day':days,\n",
    "    'time':time\n",
    "})"
   ]
  },
  {
   "cell_type": "code",
   "execution_count": 8,
   "metadata": {
    "colab": {
     "base_uri": "https://localhost:8080/",
     "height": 34
    },
    "colab_type": "code",
    "id": "8Hbx4kvUQ_m0",
    "outputId": "afd143f1-2d3d-4132-fee1-872fcd5d4242"
   },
   "outputs": [
    {
     "name": "stdout",
     "output_type": "stream",
     "text": [
      "419412\n"
     ]
    }
   ],
   "source": [
    "print(len(df))"
   ]
  },
  {
   "cell_type": "code",
   "execution_count": 9,
   "metadata": {
    "colab": {},
    "colab_type": "code",
    "id": "_LPX31h4PZ2j"
   },
   "outputs": [],
   "source": [
    "df.to_csv(\"FinalExtractedSentenceWise.csv\")"
   ]
  },
  {
   "cell_type": "code",
   "execution_count": 10,
   "metadata": {
    "colab": {
     "base_uri": "https://localhost:8080/",
     "height": 51
    },
    "colab_type": "code",
    "id": "E8gRNAQiPkxd",
    "outputId": "85b44a42-3349-4a5f-e78c-2461d74d7ee3"
   },
   "outputs": [
    {
     "name": "stdout",
     "output_type": "stream",
     "text": [
      "419412\n",
      "419410\n"
     ]
    }
   ],
   "source": [
    "df=pd.read_csv('./FinalExtractedSentenceWise.csv')\n",
    "print(len(df))\n",
    "df=df.reset_index(drop=True)\n",
    "df=df.dropna()\n",
    "print(len(df))"
   ]
  },
  {
   "cell_type": "code",
   "execution_count": 11,
   "metadata": {
    "colab": {
     "base_uri": "https://localhost:8080/",
     "height": 34
    },
    "colab_type": "code",
    "id": "v2suIOzYRFly",
    "outputId": "06436d20-3ba6-4d5b-ac16-b54acc0cf9f0"
   },
   "outputs": [
    {
     "name": "stdout",
     "output_type": "stream",
     "text": [
      "419410\n"
     ]
    }
   ],
   "source": [
    "print(len(df))"
   ]
  },
  {
   "cell_type": "code",
   "execution_count": 12,
   "metadata": {
    "colab": {
     "base_uri": "https://localhost:8080/",
     "height": 51
    },
    "colab_type": "code",
    "id": "1udD4uUNRKfS",
    "outputId": "56a5ef5a-0d68-4b64-f760-211fea30ee1c"
   },
   "outputs": [
    {
     "name": "stdout",
     "output_type": "stream",
     "text": [
      "22:00:00\n",
      "True\n"
     ]
    }
   ],
   "source": [
    "print((df.loc[0]['time']))\n",
    "if \"4:32:00\"< \"63:30\":\n",
    "  print(\"True\")"
   ]
  },
  {
   "cell_type": "code",
   "execution_count": 3,
   "metadata": {
    "colab": {
     "base_uri": "https://localhost:8080/",
     "height": 204
    },
    "colab_type": "code",
    "id": "ulEdAhgxecSl",
    "outputId": "ad0d9e4b-8e2f-4416-9a3b-e786560b7c5a"
   },
   "outputs": [
    {
     "ename": "NameError",
     "evalue": "name 'df' is not defined",
     "output_type": "error",
     "traceback": [
      "\u001b[0;31m---------------------------------------------------------------------------\u001b[0m",
      "\u001b[0;31mNameError\u001b[0m                                 Traceback (most recent call last)",
      "Cell \u001b[0;32mIn[3], line 2\u001b[0m\n\u001b[1;32m      1\u001b[0m \u001b[38;5;28;01mfrom\u001b[39;00m \u001b[38;5;21;01mdatetime\u001b[39;00m \u001b[38;5;28;01mimport\u001b[39;00m datetime\n\u001b[0;32m----> 2\u001b[0m datetime\u001b[38;5;241m.\u001b[39mstrptime(\u001b[43mdf\u001b[49m\u001b[38;5;241m.\u001b[39mloc[\u001b[38;5;241m0\u001b[39m]\u001b[38;5;241m.\u001b[39mday,\u001b[38;5;124m'\u001b[39m\u001b[38;5;124m%\u001b[39m\u001b[38;5;124mY-\u001b[39m\u001b[38;5;124m%\u001b[39m\u001b[38;5;124mm-\u001b[39m\u001b[38;5;132;01m%d\u001b[39;00m\u001b[38;5;124m'\u001b[39m)\u001b[38;5;241m.\u001b[39mstrftime(\u001b[38;5;124m'\u001b[39m\u001b[38;5;124m%\u001b[39m\u001b[38;5;124mY.\u001b[39m\u001b[38;5;124m%\u001b[39m\u001b[38;5;124mm.\u001b[39m\u001b[38;5;132;01m%d\u001b[39;00m\u001b[38;5;124m'\u001b[39m)\n\u001b[1;32m      3\u001b[0m amz_df\u001b[38;5;241m=\u001b[39mpd\u001b[38;5;241m.\u001b[39mread_csv(\u001b[38;5;124m'\u001b[39m\u001b[38;5;124m./CHARTS/APPLE60.csv\u001b[39m\u001b[38;5;124m'\u001b[39m,names\u001b[38;5;241m=\u001b[39m[\u001b[38;5;124m'\u001b[39m\u001b[38;5;124mday\u001b[39m\u001b[38;5;124m'\u001b[39m,\u001b[38;5;124m'\u001b[39m\u001b[38;5;124mtime\u001b[39m\u001b[38;5;124m'\u001b[39m,\u001b[38;5;124m'\u001b[39m\u001b[38;5;124mprice\u001b[39m\u001b[38;5;124m'\u001b[39m,\u001b[38;5;124m'\u001b[39m\u001b[38;5;124mx1\u001b[39m\u001b[38;5;124m'\u001b[39m,\u001b[38;5;124m'\u001b[39m\u001b[38;5;124mx2\u001b[39m\u001b[38;5;124m'\u001b[39m,\u001b[38;5;124m'\u001b[39m\u001b[38;5;124mx3\u001b[39m\u001b[38;5;124m'\u001b[39m,\u001b[38;5;124m'\u001b[39m\u001b[38;5;124mx4\u001b[39m\u001b[38;5;124m'\u001b[39m])\n\u001b[1;32m      4\u001b[0m amz_df\u001b[38;5;241m=\u001b[39mamz_df[[\u001b[38;5;124m'\u001b[39m\u001b[38;5;124mday\u001b[39m\u001b[38;5;124m'\u001b[39m,\u001b[38;5;124m'\u001b[39m\u001b[38;5;124mtime\u001b[39m\u001b[38;5;124m'\u001b[39m,\u001b[38;5;124m'\u001b[39m\u001b[38;5;124mprice\u001b[39m\u001b[38;5;124m'\u001b[39m]]\n",
      "\u001b[0;31mNameError\u001b[0m: name 'df' is not defined"
     ]
    }
   ],
   "source": [
    "from datetime import datetime\n",
    "datetime.strptime(df.loc[0].day,'%Y-%m-%d').strftime('%Y.%m.%d')\n",
    "amz_df=pd.read_csv('./CHARTS/APPLE60.csv',names=['day','time','price','x1','x2','x3','x4'])\n",
    "amz_df=amz_df[['day','time','price']]\n",
    "amz_df.head()"
   ]
  },
  {
   "cell_type": "code",
   "execution_count": 14,
   "metadata": {
    "colab": {},
    "colab_type": "code",
    "id": "BAIYZ9gNGuq9"
   },
   "outputs": [],
   "source": [
    "df=df.reset_index(drop=True)"
   ]
  },
  {
   "cell_type": "code",
   "execution_count": 15,
   "metadata": {
    "colab": {},
    "colab_type": "code",
    "id": "cStGGQzMMC8R"
   },
   "outputs": [],
   "source": [
    "df.to_csv(\"FinalExtractedDataset1.csv\")"
   ]
  },
  {
   "cell_type": "code",
   "execution_count": 4,
   "metadata": {},
   "outputs": [
    {
     "data": {
      "text/html": [
       "<div>\n",
       "<style scoped>\n",
       "    .dataframe tbody tr th:only-of-type {\n",
       "        vertical-align: middle;\n",
       "    }\n",
       "\n",
       "    .dataframe tbody tr th {\n",
       "        vertical-align: top;\n",
       "    }\n",
       "\n",
       "    .dataframe thead th {\n",
       "        text-align: right;\n",
       "    }\n",
       "</style>\n",
       "<table border=\"1\" class=\"dataframe\">\n",
       "  <thead>\n",
       "    <tr style=\"text-align: right;\">\n",
       "      <th></th>\n",
       "      <th>day</th>\n",
       "      <th>time</th>\n",
       "      <th>price</th>\n",
       "    </tr>\n",
       "  </thead>\n",
       "  <tbody>\n",
       "    <tr>\n",
       "      <th>0</th>\n",
       "      <td>2016.03.16</td>\n",
       "      <td>19:30</td>\n",
       "      <td>106.029</td>\n",
       "    </tr>\n",
       "    <tr>\n",
       "      <th>1</th>\n",
       "      <td>2016.03.16</td>\n",
       "      <td>20:30</td>\n",
       "      <td>105.099</td>\n",
       "    </tr>\n",
       "    <tr>\n",
       "      <th>2</th>\n",
       "      <td>2016.03.17</td>\n",
       "      <td>12:30</td>\n",
       "      <td>105.269</td>\n",
       "    </tr>\n",
       "    <tr>\n",
       "      <th>3</th>\n",
       "      <td>2016.03.17</td>\n",
       "      <td>13:30</td>\n",
       "      <td>105.479</td>\n",
       "    </tr>\n",
       "    <tr>\n",
       "      <th>4</th>\n",
       "      <td>2016.03.17</td>\n",
       "      <td>14:30</td>\n",
       "      <td>105.609</td>\n",
       "    </tr>\n",
       "  </tbody>\n",
       "</table>\n",
       "</div>"
      ],
      "text/plain": [
       "          day   time    price\n",
       "0  2016.03.16  19:30  106.029\n",
       "1  2016.03.16  20:30  105.099\n",
       "2  2016.03.17  12:30  105.269\n",
       "3  2016.03.17  13:30  105.479\n",
       "4  2016.03.17  14:30  105.609"
      ]
     },
     "execution_count": 4,
     "metadata": {},
     "output_type": "execute_result"
    }
   ],
   "source": [
    "########################## FIRAS To start from here if already data created\n",
    "\n",
    "from datetime import datetime\n",
    "df = pd.read_csv(\"FinalExtractedDataset1.csv\")\n",
    "datetime.strptime(df.loc[0].day,'%Y-%m-%d').strftime('%Y.%m.%d')\n",
    "amz_df=pd.read_csv('./CHARTS/APPLE60.csv',names=['day','time','price','x1','x2','x3','x4'])\n",
    "amz_df=amz_df[['day','time','price']]\n",
    "amz_df.head()"
   ]
  },
  {
   "cell_type": "code",
   "execution_count": 5,
   "metadata": {
    "colab": {},
    "colab_type": "code",
    "id": "2D4uibJsHD5G"
   },
   "outputs": [],
   "source": [
    "def convert_news_time(time):\n",
    "  time=datetime.strptime(time, '%H:%M:%S')\n",
    "  return time\n",
    "\n",
    "def convert_chart_time(time):\n",
    "  time=datetime.strptime(time, '%H:%M')\n",
    "  return time"
   ]
  },
  {
   "cell_type": "code",
   "execution_count": 6,
   "metadata": {
    "colab": {
     "base_uri": "https://localhost:8080/",
     "height": 34
    },
    "colab_type": "code",
    "id": "uXmV5rR3g5jO",
    "outputId": "e78b8c25-074d-49f6-ea73-8b01530cb5e3"
   },
   "outputs": [
    {
     "name": "stdout",
     "output_type": "stream",
     "text": [
      "10\n",
      "20\n"
     ]
    },
    {
     "ename": "KeyboardInterrupt",
     "evalue": "",
     "output_type": "error",
     "traceback": [
      "\u001b[0;31m---------------------------------------------------------------------------\u001b[0m",
      "\u001b[0;31mKeyboardInterrupt\u001b[0m                         Traceback (most recent call last)",
      "Cell \u001b[0;32mIn[6], line 14\u001b[0m\n\u001b[1;32m     12\u001b[0m amazon_text\u001b[38;5;241m.\u001b[39mappend(df\u001b[38;5;241m.\u001b[39mloc[i]\u001b[38;5;241m.\u001b[39mtext)\n\u001b[1;32m     13\u001b[0m \u001b[38;5;28;01mfor\u001b[39;00m k \u001b[38;5;129;01min\u001b[39;00m \u001b[38;5;28mrange\u001b[39m(\u001b[38;5;28mlen\u001b[39m(amz_df)):\n\u001b[0;32m---> 14\u001b[0m   \u001b[38;5;28;01mif\u001b[39;00m \u001b[43mamz_df\u001b[49m\u001b[38;5;241;43m.\u001b[39;49m\u001b[43mloc\u001b[49m\u001b[43m[\u001b[49m\u001b[43mk\u001b[49m\u001b[43m]\u001b[49m\u001b[38;5;241m.\u001b[39mday\u001b[38;5;241m==\u001b[39mdate:\n\u001b[1;32m     15\u001b[0m      j\u001b[38;5;241m=\u001b[39mk\n\u001b[1;32m     16\u001b[0m      \u001b[38;5;28;01mbreak\u001b[39;00m\n",
      "File \u001b[0;32m~/anaconda3/lib/python3.9/site-packages/pandas/core/indexing.py:1073\u001b[0m, in \u001b[0;36m_LocationIndexer.__getitem__\u001b[0;34m(self, key)\u001b[0m\n\u001b[1;32m   1070\u001b[0m axis \u001b[38;5;241m=\u001b[39m \u001b[38;5;28mself\u001b[39m\u001b[38;5;241m.\u001b[39maxis \u001b[38;5;129;01mor\u001b[39;00m \u001b[38;5;241m0\u001b[39m\n\u001b[1;32m   1072\u001b[0m maybe_callable \u001b[38;5;241m=\u001b[39m com\u001b[38;5;241m.\u001b[39mapply_if_callable(key, \u001b[38;5;28mself\u001b[39m\u001b[38;5;241m.\u001b[39mobj)\n\u001b[0;32m-> 1073\u001b[0m \u001b[38;5;28;01mreturn\u001b[39;00m \u001b[38;5;28;43mself\u001b[39;49m\u001b[38;5;241;43m.\u001b[39;49m\u001b[43m_getitem_axis\u001b[49m\u001b[43m(\u001b[49m\u001b[43mmaybe_callable\u001b[49m\u001b[43m,\u001b[49m\u001b[43m \u001b[49m\u001b[43maxis\u001b[49m\u001b[38;5;241;43m=\u001b[39;49m\u001b[43maxis\u001b[49m\u001b[43m)\u001b[49m\n",
      "File \u001b[0;32m~/anaconda3/lib/python3.9/site-packages/pandas/core/indexing.py:1312\u001b[0m, in \u001b[0;36m_LocIndexer._getitem_axis\u001b[0;34m(self, key, axis)\u001b[0m\n\u001b[1;32m   1310\u001b[0m \u001b[38;5;66;03m# fall thru to straight lookup\u001b[39;00m\n\u001b[1;32m   1311\u001b[0m \u001b[38;5;28mself\u001b[39m\u001b[38;5;241m.\u001b[39m_validate_key(key, axis)\n\u001b[0;32m-> 1312\u001b[0m \u001b[38;5;28;01mreturn\u001b[39;00m \u001b[38;5;28;43mself\u001b[39;49m\u001b[38;5;241;43m.\u001b[39;49m\u001b[43m_get_label\u001b[49m\u001b[43m(\u001b[49m\u001b[43mkey\u001b[49m\u001b[43m,\u001b[49m\u001b[43m \u001b[49m\u001b[43maxis\u001b[49m\u001b[38;5;241;43m=\u001b[39;49m\u001b[43maxis\u001b[49m\u001b[43m)\u001b[49m\n",
      "File \u001b[0;32m~/anaconda3/lib/python3.9/site-packages/pandas/core/indexing.py:1260\u001b[0m, in \u001b[0;36m_LocIndexer._get_label\u001b[0;34m(self, label, axis)\u001b[0m\n\u001b[1;32m   1258\u001b[0m \u001b[38;5;28;01mdef\u001b[39;00m \u001b[38;5;21m_get_label\u001b[39m(\u001b[38;5;28mself\u001b[39m, label, axis: \u001b[38;5;28mint\u001b[39m):\n\u001b[1;32m   1259\u001b[0m     \u001b[38;5;66;03m# GH#5567 this will fail if the label is not present in the axis.\u001b[39;00m\n\u001b[0;32m-> 1260\u001b[0m     \u001b[38;5;28;01mreturn\u001b[39;00m \u001b[38;5;28;43mself\u001b[39;49m\u001b[38;5;241;43m.\u001b[39;49m\u001b[43mobj\u001b[49m\u001b[38;5;241;43m.\u001b[39;49m\u001b[43mxs\u001b[49m\u001b[43m(\u001b[49m\u001b[43mlabel\u001b[49m\u001b[43m,\u001b[49m\u001b[43m \u001b[49m\u001b[43maxis\u001b[49m\u001b[38;5;241;43m=\u001b[39;49m\u001b[43maxis\u001b[49m\u001b[43m)\u001b[49m\n",
      "File \u001b[0;32m~/anaconda3/lib/python3.9/site-packages/pandas/core/generic.py:4076\u001b[0m, in \u001b[0;36mNDFrame.xs\u001b[0;34m(self, key, axis, level, drop_level)\u001b[0m\n\u001b[1;32m   4070\u001b[0m     \u001b[38;5;28;01mif\u001b[39;00m \u001b[38;5;28mself\u001b[39m\u001b[38;5;241m.\u001b[39mndim \u001b[38;5;241m==\u001b[39m \u001b[38;5;241m1\u001b[39m:\n\u001b[1;32m   4071\u001b[0m         \u001b[38;5;66;03m# if we encounter an array-like and we only have 1 dim\u001b[39;00m\n\u001b[1;32m   4072\u001b[0m         \u001b[38;5;66;03m# that means that their are list/ndarrays inside the Series!\u001b[39;00m\n\u001b[1;32m   4073\u001b[0m         \u001b[38;5;66;03m# so just return them (GH 6394)\u001b[39;00m\n\u001b[1;32m   4074\u001b[0m         \u001b[38;5;28;01mreturn\u001b[39;00m \u001b[38;5;28mself\u001b[39m\u001b[38;5;241m.\u001b[39m_values[loc]\n\u001b[0;32m-> 4076\u001b[0m     new_mgr \u001b[38;5;241m=\u001b[39m \u001b[38;5;28;43mself\u001b[39;49m\u001b[38;5;241;43m.\u001b[39;49m\u001b[43m_mgr\u001b[49m\u001b[38;5;241;43m.\u001b[39;49m\u001b[43mfast_xs\u001b[49m\u001b[43m(\u001b[49m\u001b[43mloc\u001b[49m\u001b[43m)\u001b[49m\n\u001b[1;32m   4078\u001b[0m     result \u001b[38;5;241m=\u001b[39m \u001b[38;5;28mself\u001b[39m\u001b[38;5;241m.\u001b[39m_constructor_sliced(\n\u001b[1;32m   4079\u001b[0m         new_mgr, name\u001b[38;5;241m=\u001b[39m\u001b[38;5;28mself\u001b[39m\u001b[38;5;241m.\u001b[39mindex[loc]\n\u001b[1;32m   4080\u001b[0m     )\u001b[38;5;241m.\u001b[39m__finalize__(\u001b[38;5;28mself\u001b[39m)\n\u001b[1;32m   4081\u001b[0m \u001b[38;5;28;01melif\u001b[39;00m is_scalar(loc):\n",
      "File \u001b[0;32m~/anaconda3/lib/python3.9/site-packages/pandas/core/internals/managers.py:1129\u001b[0m, in \u001b[0;36mBlockManager.fast_xs\u001b[0;34m(self, loc)\u001b[0m\n\u001b[1;32m   1126\u001b[0m     result \u001b[38;5;241m=\u001b[39m dtype\u001b[38;5;241m.\u001b[39mconstruct_array_type()\u001b[38;5;241m.\u001b[39m_from_sequence(result, dtype\u001b[38;5;241m=\u001b[39mdtype)\n\u001b[1;32m   1128\u001b[0m block \u001b[38;5;241m=\u001b[39m new_block(result, placement\u001b[38;5;241m=\u001b[39m\u001b[38;5;28mslice\u001b[39m(\u001b[38;5;241m0\u001b[39m, \u001b[38;5;28mlen\u001b[39m(result)), ndim\u001b[38;5;241m=\u001b[39m\u001b[38;5;241m1\u001b[39m)\n\u001b[0;32m-> 1129\u001b[0m \u001b[38;5;28;01mreturn\u001b[39;00m \u001b[43mSingleBlockManager\u001b[49m\u001b[43m(\u001b[49m\u001b[43mblock\u001b[49m\u001b[43m,\u001b[49m\u001b[43m \u001b[49m\u001b[38;5;28;43mself\u001b[39;49m\u001b[38;5;241;43m.\u001b[39;49m\u001b[43maxes\u001b[49m\u001b[43m[\u001b[49m\u001b[38;5;241;43m0\u001b[39;49m\u001b[43m]\u001b[49m\u001b[43m)\u001b[49m\n",
      "File \u001b[0;32m~/anaconda3/lib/python3.9/site-packages/pandas/core/internals/managers.py:1888\u001b[0m, in \u001b[0;36mSingleBlockManager.__init__\u001b[0;34m(self, block, axis, refs, parent, verify_integrity, fastpath)\u001b[0m\n\u001b[1;32m   1885\u001b[0m \u001b[38;5;18m__slots__\u001b[39m \u001b[38;5;241m=\u001b[39m ()\n\u001b[1;32m   1886\u001b[0m is_single_block \u001b[38;5;241m=\u001b[39m \u001b[38;5;28;01mTrue\u001b[39;00m\n\u001b[0;32m-> 1888\u001b[0m \u001b[38;5;28;01mdef\u001b[39;00m \u001b[38;5;21m__init__\u001b[39m(\n\u001b[1;32m   1889\u001b[0m     \u001b[38;5;28mself\u001b[39m,\n\u001b[1;32m   1890\u001b[0m     block: Block,\n\u001b[1;32m   1891\u001b[0m     axis: Index,\n\u001b[1;32m   1892\u001b[0m     refs: \u001b[38;5;28mlist\u001b[39m[weakref\u001b[38;5;241m.\u001b[39mref \u001b[38;5;241m|\u001b[39m \u001b[38;5;28;01mNone\u001b[39;00m] \u001b[38;5;241m|\u001b[39m \u001b[38;5;28;01mNone\u001b[39;00m \u001b[38;5;241m=\u001b[39m \u001b[38;5;28;01mNone\u001b[39;00m,\n\u001b[1;32m   1893\u001b[0m     parent: \u001b[38;5;28mobject\u001b[39m \u001b[38;5;241m=\u001b[39m \u001b[38;5;28;01mNone\u001b[39;00m,\n\u001b[1;32m   1894\u001b[0m     verify_integrity: \u001b[38;5;28mbool\u001b[39m \u001b[38;5;241m=\u001b[39m \u001b[38;5;28;01mFalse\u001b[39;00m,\n\u001b[1;32m   1895\u001b[0m     fastpath\u001b[38;5;241m=\u001b[39mlib\u001b[38;5;241m.\u001b[39mno_default,\n\u001b[1;32m   1896\u001b[0m ) \u001b[38;5;241m-\u001b[39m\u001b[38;5;241m>\u001b[39m \u001b[38;5;28;01mNone\u001b[39;00m:\n\u001b[1;32m   1897\u001b[0m     \u001b[38;5;66;03m# Assertions disabled for performance\u001b[39;00m\n\u001b[1;32m   1898\u001b[0m     \u001b[38;5;66;03m# assert isinstance(block, Block), type(block)\u001b[39;00m\n\u001b[1;32m   1899\u001b[0m     \u001b[38;5;66;03m# assert isinstance(axis, Index), type(axis)\u001b[39;00m\n\u001b[1;32m   1901\u001b[0m     \u001b[38;5;28;01mif\u001b[39;00m fastpath \u001b[38;5;129;01mis\u001b[39;00m \u001b[38;5;129;01mnot\u001b[39;00m lib\u001b[38;5;241m.\u001b[39mno_default:\n\u001b[1;32m   1902\u001b[0m         warnings\u001b[38;5;241m.\u001b[39mwarn(\n\u001b[1;32m   1903\u001b[0m             \u001b[38;5;124m\"\u001b[39m\u001b[38;5;124mThe `fastpath` keyword is deprecated and will be removed \u001b[39m\u001b[38;5;124m\"\u001b[39m\n\u001b[1;32m   1904\u001b[0m             \u001b[38;5;124m\"\u001b[39m\u001b[38;5;124min a future version.\u001b[39m\u001b[38;5;124m\"\u001b[39m,\n\u001b[1;32m   1905\u001b[0m             \u001b[38;5;167;01mFutureWarning\u001b[39;00m,\n\u001b[1;32m   1906\u001b[0m             stacklevel\u001b[38;5;241m=\u001b[39mfind_stack_level(),\n\u001b[1;32m   1907\u001b[0m         )\n",
      "\u001b[0;31mKeyboardInterrupt\u001b[0m: "
     ]
    }
   ],
   "source": [
    "amazon_text=[]\n",
    "amazon_label=[]\n",
    "for i in range(len(df)):\n",
    "  if i <= 20:\n",
    "      continue\n",
    "  date=datetime.strptime(df.loc[i].day,'%Y-%m-%d').strftime('%Y.%m.%d')\n",
    "  if i%10==0 and i!=0:\n",
    "    label_p=pd.DataFrame({\n",
    "        'text':amazon_text,\n",
    "        'label':amazon_label\n",
    "    })\n",
    "    label_p.to_csv('Label'+str(i)+'.csv')\n",
    "    print(i)\n",
    "  amazon_text.append(df.loc[i].text)\n",
    "  for k in range(len(amz_df)):\n",
    "    if amz_df.loc[k].day==date:\n",
    "       j=k\n",
    "       break\n",
    "\n",
    "  if convert_news_time(df.loc[i].time)<convert_chart_time(\"13:30\"):\n",
    "    # print(df.loc[i].time)\n",
    "    if amz_df.loc[j-1].price<amz_df.loc[j].price:\n",
    "      amazon_label.append(1)\n",
    "    else:\n",
    "      amazon_label.append(0)\n",
    "  elif convert_news_time(df.loc[i].time)>=convert_chart_time(\"13:30\") and convert_news_time(df.loc[i].time)<convert_chart_time(\"14:30\"):\n",
    "    if amz_df.loc[j].price<amz_df.loc[j+1].price:\n",
    "      amazon_label.append(1)\n",
    "    else:\n",
    "      amazon_label.append(0)\n",
    "  elif convert_news_time(df.loc[i].time)>=convert_chart_time(\"14:30\") and convert_news_time(df.loc[i].time)<convert_chart_time(\"15:30\"):\n",
    "    if amz_df.loc[j+1].price<amz_df.loc[j+2].price:\n",
    "      amazon_label.append(1)\n",
    "      \n",
    "    else:\n",
    "      amazon_label.append(0)\n",
    "      \n",
    "  elif convert_news_time(df.loc[i].time)>=convert_chart_time(\"15:30\") and convert_news_time(df.loc[i].time)<convert_chart_time(\"16:30\"):\n",
    "    if amz_df.loc[j+2].price<amz_df.loc[j+3].price:\n",
    "      amazon_label.append(1)\n",
    "      \n",
    "    else:\n",
    "      amazon_label.append(0)\n",
    "      \n",
    "  elif convert_news_time(df.loc[i].time)>=convert_chart_time(\"16:30\") and convert_news_time(df.loc[i].time)<convert_chart_time(\"17:30\"):\n",
    "    if amz_df.loc[j+3].price<amz_df.loc[j+4].price:\n",
    "      amazon_label.append(1)\n",
    "      \n",
    "    else:\n",
    "      amazon_label.append(0)\n",
    "      \n",
    "\n",
    "  elif convert_news_time(df.loc[i].time)>=convert_chart_time(\"17:30\") and convert_news_time(df.loc[i].time)<convert_chart_time(\"18:30\"):\n",
    "    if amz_df.loc[j+4].price<amz_df.loc[j+5].price:\n",
    "      amazon_label.append(1)\n",
    "      \n",
    "    else:\n",
    "      amazon_label.append(0)\n",
    "      \n",
    "\n",
    "  elif convert_news_time(df.loc[i].time)>=convert_chart_time(\"18:30\") and convert_news_time(df.loc[i].time)<convert_chart_time(\"19:30\"):\n",
    "    if amz_df.loc[j+5].price<amz_df.loc[j+6].price:\n",
    "      amazon_label.append(1)\n",
    "      \n",
    "    else:\n",
    "      amazon_label.append(0)\n",
    "      \n",
    "\n",
    "  elif convert_news_time(df.loc[i].time)>=convert_chart_time(\"19:30\") and convert_news_time(df.loc[i].time)<convert_chart_time(\"20:30\"):\n",
    "    if amz_df.loc[j+6].price<amz_df.loc[j+7].price:\n",
    "      amazon_label.append(1)\n",
    "      \n",
    "    else:\n",
    "      amazon_label.append(0)\n",
    "      \n",
    "    \n",
    "  elif convert_news_time(df.loc[i].time)>=convert_chart_time(\"20:30\") and convert_news_time(df.loc[i].time)<convert_chart_time(\"21:30\"):\n",
    "    if amz_df.loc[j+7].price<amz_df.loc[j+8].price:\n",
    "      amazon_label.append(1)\n",
    "      \n",
    "    else:\n",
    "      amazon_label.append(0)\n",
    "      \n",
    "\n",
    "  elif convert_news_time(df.loc[i].time)>=convert_chart_time(\"21:30\"):\n",
    "    if amz_df.loc[j+8].price<amz_df.loc[j+9].price:\n",
    "      amazon_label.append(1)\n",
    "      \n",
    "    else:\n",
    "      amazon_label.append(0)\n",
    "      \n",
    "label_p=pd.DataFrame({\n",
    "        'text':amazon_text,\n",
    "        'label':amazon_label\n",
    "    })\n",
    "label_p.to_csv('Label'+str(i)+'.csv')\n",
    "\n",
    "print(amazon_label)\n"
   ]
  },
  {
   "cell_type": "code",
   "execution_count": 24,
   "metadata": {
    "colab": {
     "base_uri": "https://localhost:8080/",
     "height": 51
    },
    "colab_type": "code",
    "id": "U2zYke8qPo2D",
    "outputId": "8a04c819-2cb1-489b-cd17-366747345ddf"
   },
   "outputs": [
    {
     "name": "stdout",
     "output_type": "stream",
     "text": [
      "0\n",
      "101\n"
     ]
    }
   ],
   "source": [
    "print(len(amazon_label))\n",
    "print(len(df.loc[0:100]))"
   ]
  },
  {
   "cell_type": "code",
   "execution_count": null,
   "metadata": {
    "colab": {
     "base_uri": "https://localhost:8080/",
     "height": 34
    },
    "colab_type": "code",
    "id": "Ds2twoOQEJjt",
    "outputId": "cf5181e7-3232-4ddd-9a5f-e31ff5fd5a1b"
   },
   "outputs": [
    {
     "name": "stdout",
     "output_type": "stream",
     "text": [
      "True\n"
     ]
    }
   ],
   "source": [
    "date_time_str=\"4:32:00\"\n",
    "date_time_str1=\"13:30\"\n",
    "time=convert_news_time(date_time_str)\n",
    "time1=convert_chart_time(date_time_str1)\n",
    "\n",
    "if time<time1:\n",
    "  print(\"True\")"
   ]
  },
  {
   "cell_type": "code",
   "execution_count": null,
   "metadata": {
    "colab": {},
    "colab_type": "code",
    "id": "tPitiVEbMnoH"
   },
   "outputs": [],
   "source": []
  }
 ],
 "metadata": {
  "accelerator": "GPU",
  "colab": {
   "collapsed_sections": [],
   "name": "ExtractionDataSet.ipynb",
   "provenance": [],
   "toc_visible": true
  },
  "kernelspec": {
   "display_name": "Python 3 (ipykernel)",
   "language": "python",
   "name": "python3"
  },
  "language_info": {
   "codemirror_mode": {
    "name": "ipython",
    "version": 3
   },
   "file_extension": ".py",
   "mimetype": "text/x-python",
   "name": "python",
   "nbconvert_exporter": "python",
   "pygments_lexer": "ipython3",
   "version": "3.9.18"
  }
 },
 "nbformat": 4,
 "nbformat_minor": 4
}
